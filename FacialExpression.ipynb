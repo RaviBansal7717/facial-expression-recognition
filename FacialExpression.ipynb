{
  "nbformat": 4,
  "nbformat_minor": 0,
  "metadata": {
    "colab": {
      "name": "FacialExpression.ipynb",
      "provenance": [],
      "collapsed_sections": []
    },
    "kernelspec": {
      "name": "python3",
      "display_name": "Python 3"
    },
    "accelerator": "GPU"
  },
  "cells": [
    {
      "cell_type": "code",
      "metadata": {
        "id": "g2yatQsZ6T1c",
        "colab_type": "code",
        "colab": {
          "base_uri": "https://localhost:8080/",
          "height": 34
        },
        "outputId": "b620bda9-1859-445c-82af-1564b37720db"
      },
      "source": [
        "import keras"
      ],
      "execution_count": 4,
      "outputs": [
        {
          "output_type": "stream",
          "text": [
            "Using TensorFlow backend.\n"
          ],
          "name": "stderr"
        }
      ]
    },
    {
      "cell_type": "code",
      "metadata": {
        "id": "SUah_KMN7F_P",
        "colab_type": "code",
        "colab": {}
      },
      "source": [
        "from keras.preprocessing.image import ImageDataGenerator\n",
        "\n",
        "datagen = ImageDataGenerator(\n",
        "        rotation_range=40,\n",
        "        width_shift_range=0.2,\n",
        "        height_shift_range=0.2,\n",
        "        rescale=1./255,\n",
        "        shear_range=0.2,\n",
        "        zoom_range=0.2,\n",
        "        horizontal_flip=True,\n",
        "        fill_mode='nearest')"
      ],
      "execution_count": 5,
      "outputs": []
    },
    {
      "cell_type": "code",
      "metadata": {
        "id": "c2ormvtl9N26",
        "colab_type": "code",
        "colab": {}
      },
      "source": [
        "import zipfile\n",
        "with zipfile.ZipFile(\"./sample_data/train.zip\", 'r') as zip_ref:\n",
        "    zip_ref.extractall(\"./sample_data/train\")\n",
        "\n",
        "with zipfile.ZipFile(\"./sample_data/test.zip\", 'r') as zip_ref:\n",
        "    zip_ref.extractall(\"./sample_data/test\")\n"
      ],
      "execution_count": 16,
      "outputs": []
    },
    {
      "cell_type": "code",
      "metadata": {
        "id": "4y_IQ3Lg_yY2",
        "colab_type": "code",
        "colab": {
          "base_uri": "https://localhost:8080/",
          "height": 34
        },
        "outputId": "1e592973-5562-4e01-cf9d-8f32144c48ca"
      },
      "source": [
        "import numpy as np\n",
        "from keras.preprocessing.image import load_img\n",
        "image=load_img(\"./sample_data/Data/Data/angry/PrivateTest_94431780.jpg\")\n",
        "image.size"
      ],
      "execution_count": 3,
      "outputs": [
        {
          "output_type": "execute_result",
          "data": {
            "text/plain": [
              "(48, 48)"
            ]
          },
          "metadata": {
            "tags": []
          },
          "execution_count": 3
        }
      ]
    },
    {
      "cell_type": "code",
      "metadata": {
        "id": "mndldpE27pug",
        "colab_type": "code",
        "colab": {
          "base_uri": "https://localhost:8080/",
          "height": 1000
        },
        "outputId": "d772d29f-8624-4511-e206-6771d38ee2f8"
      },
      "source": [
        "\n",
        "from keras.models import Sequential\n",
        "from keras.layers import Conv2D, MaxPooling2D\n",
        "from keras.layers import Activation, Dropout, Flatten, Dense,BatchNormalization\n",
        "\n",
        "model = Sequential()\n",
        "model.add(Conv2D(64,  (3, 3), padding=\"same\", input_shape=(48,48,1)))\n",
        "model.add(BatchNormalization())\n",
        "model.add(Activation('relu'))\n",
        "model.add(MaxPooling2D(pool_size=(2, 2)))\n",
        "model.add(Dropout(0.2))\n",
        "\n",
        "model.add(Conv2D(128,  (3, 3), padding=\"same\",))\n",
        "model.add(BatchNormalization())\n",
        "model.add(Activation('relu'))\n",
        "model.add(MaxPooling2D(pool_size=(2, 2)))\n",
        "model.add(Dropout(0.2))\n",
        "\n",
        "model.add(Conv2D(256,  (3, 3), padding=\"same\",))\n",
        "model.add(BatchNormalization())\n",
        "model.add(Activation('relu'))\n",
        "model.add(MaxPooling2D(pool_size=(2, 2)))\n",
        "model.add(Dropout(0.2))\n",
        "\n",
        "model.add(Conv2D(512,  (3, 3), padding=\"same\",))\n",
        "model.add(BatchNormalization())\n",
        "model.add(Activation('relu'))\n",
        "model.add(MaxPooling2D(pool_size=(2, 2)))\n",
        "model.add(Dropout(0.2))\n",
        "\n",
        "model.add(Conv2D(1024,  (3, 3), padding=\"same\",))\n",
        "model.add(BatchNormalization())\n",
        "model.add(Activation('relu'))\n",
        "model.add(MaxPooling2D(pool_size=(2, 2)))\n",
        "model.add(Dropout(0.2))\n",
        "\n",
        "\n",
        "model.add(Flatten())  # this converts our 3D feature maps to 1D feature vectors\n",
        "\n",
        "model.add(Dense(256))\n",
        "model.add(Activation('relu'))\n",
        "model.add(Dropout(0.2))\n",
        "\n",
        "model.add(Dense(512))\n",
        "model.add(Activation('relu'))\n",
        "model.add(Dropout(0.2))\n",
        "\n",
        "model.add(Dense(7,activation=\"softmax\"))\n",
        "\n",
        "model.compile(loss='categorical_crossentropy',optimizer='adam',metrics=['accuracy'])\n",
        "\n",
        "model.summary()"
      ],
      "execution_count": 28,
      "outputs": [
        {
          "output_type": "stream",
          "text": [
            "Model: \"sequential_9\"\n",
            "_________________________________________________________________\n",
            "Layer (type)                 Output Shape              Param #   \n",
            "=================================================================\n",
            "conv2d_43 (Conv2D)           (None, 48, 48, 64)        640       \n",
            "_________________________________________________________________\n",
            "batch_normalization_43 (Batc (None, 48, 48, 64)        256       \n",
            "_________________________________________________________________\n",
            "activation_59 (Activation)   (None, 48, 48, 64)        0         \n",
            "_________________________________________________________________\n",
            "max_pooling2d_43 (MaxPooling (None, 24, 24, 64)        0         \n",
            "_________________________________________________________________\n",
            "dropout_15 (Dropout)         (None, 24, 24, 64)        0         \n",
            "_________________________________________________________________\n",
            "conv2d_44 (Conv2D)           (None, 24, 24, 128)       73856     \n",
            "_________________________________________________________________\n",
            "batch_normalization_44 (Batc (None, 24, 24, 128)       512       \n",
            "_________________________________________________________________\n",
            "activation_60 (Activation)   (None, 24, 24, 128)       0         \n",
            "_________________________________________________________________\n",
            "max_pooling2d_44 (MaxPooling (None, 12, 12, 128)       0         \n",
            "_________________________________________________________________\n",
            "dropout_16 (Dropout)         (None, 12, 12, 128)       0         \n",
            "_________________________________________________________________\n",
            "conv2d_45 (Conv2D)           (None, 12, 12, 256)       295168    \n",
            "_________________________________________________________________\n",
            "batch_normalization_45 (Batc (None, 12, 12, 256)       1024      \n",
            "_________________________________________________________________\n",
            "activation_61 (Activation)   (None, 12, 12, 256)       0         \n",
            "_________________________________________________________________\n",
            "max_pooling2d_45 (MaxPooling (None, 6, 6, 256)         0         \n",
            "_________________________________________________________________\n",
            "dropout_17 (Dropout)         (None, 6, 6, 256)         0         \n",
            "_________________________________________________________________\n",
            "conv2d_46 (Conv2D)           (None, 6, 6, 512)         1180160   \n",
            "_________________________________________________________________\n",
            "batch_normalization_46 (Batc (None, 6, 6, 512)         2048      \n",
            "_________________________________________________________________\n",
            "activation_62 (Activation)   (None, 6, 6, 512)         0         \n",
            "_________________________________________________________________\n",
            "max_pooling2d_46 (MaxPooling (None, 3, 3, 512)         0         \n",
            "_________________________________________________________________\n",
            "dropout_18 (Dropout)         (None, 3, 3, 512)         0         \n",
            "_________________________________________________________________\n",
            "conv2d_47 (Conv2D)           (None, 3, 3, 1024)        4719616   \n",
            "_________________________________________________________________\n",
            "batch_normalization_47 (Batc (None, 3, 3, 1024)        4096      \n",
            "_________________________________________________________________\n",
            "activation_63 (Activation)   (None, 3, 3, 1024)        0         \n",
            "_________________________________________________________________\n",
            "max_pooling2d_47 (MaxPooling (None, 1, 1, 1024)        0         \n",
            "_________________________________________________________________\n",
            "dropout_19 (Dropout)         (None, 1, 1, 1024)        0         \n",
            "_________________________________________________________________\n",
            "flatten_7 (Flatten)          (None, 1024)              0         \n",
            "_________________________________________________________________\n",
            "dense_19 (Dense)             (None, 256)               262400    \n",
            "_________________________________________________________________\n",
            "activation_64 (Activation)   (None, 256)               0         \n",
            "_________________________________________________________________\n",
            "dropout_20 (Dropout)         (None, 256)               0         \n",
            "_________________________________________________________________\n",
            "dense_20 (Dense)             (None, 512)               131584    \n",
            "_________________________________________________________________\n",
            "activation_65 (Activation)   (None, 512)               0         \n",
            "_________________________________________________________________\n",
            "dropout_21 (Dropout)         (None, 512)               0         \n",
            "_________________________________________________________________\n",
            "dense_21 (Dense)             (None, 7)                 3591      \n",
            "=================================================================\n",
            "Total params: 6,674,951\n",
            "Trainable params: 6,670,983\n",
            "Non-trainable params: 3,968\n",
            "_________________________________________________________________\n"
          ],
          "name": "stdout"
        }
      ]
    },
    {
      "cell_type": "code",
      "metadata": {
        "id": "vpNuhSeML06I",
        "colab_type": "code",
        "colab": {
          "base_uri": "https://localhost:8080/",
          "height": 547
        },
        "outputId": "96204954-ac01-45ff-d5d0-a96c8b9783ed"
      },
      "source": [
        "pip install livelossplot"
      ],
      "execution_count": 8,
      "outputs": [
        {
          "output_type": "stream",
          "text": [
            "Collecting livelossplot\n",
            "  Downloading https://files.pythonhosted.org/packages/45/59/1e00dce77cacd9cd6038609809ee3666f6ba46953d2d1862637506b7c5d7/livelossplot-0.5.1-py3-none-any.whl\n",
            "Requirement already satisfied: ipython in /usr/local/lib/python3.6/dist-packages (from livelossplot) (5.5.0)\n",
            "Requirement already satisfied: bokeh; python_version >= \"3.6\" in /usr/local/lib/python3.6/dist-packages (from livelossplot) (1.4.0)\n",
            "Requirement already satisfied: matplotlib; python_version >= \"3.6\" in /usr/local/lib/python3.6/dist-packages (from livelossplot) (3.2.1)\n",
            "Requirement already satisfied: decorator in /usr/local/lib/python3.6/dist-packages (from ipython->livelossplot) (4.4.2)\n",
            "Requirement already satisfied: simplegeneric>0.8 in /usr/local/lib/python3.6/dist-packages (from ipython->livelossplot) (0.8.1)\n",
            "Requirement already satisfied: prompt-toolkit<2.0.0,>=1.0.4 in /usr/local/lib/python3.6/dist-packages (from ipython->livelossplot) (1.0.18)\n",
            "Requirement already satisfied: pygments in /usr/local/lib/python3.6/dist-packages (from ipython->livelossplot) (2.1.3)\n",
            "Requirement already satisfied: traitlets>=4.2 in /usr/local/lib/python3.6/dist-packages (from ipython->livelossplot) (4.3.3)\n",
            "Requirement already satisfied: setuptools>=18.5 in /usr/local/lib/python3.6/dist-packages (from ipython->livelossplot) (47.1.1)\n",
            "Requirement already satisfied: pexpect; sys_platform != \"win32\" in /usr/local/lib/python3.6/dist-packages (from ipython->livelossplot) (4.8.0)\n",
            "Requirement already satisfied: pickleshare in /usr/local/lib/python3.6/dist-packages (from ipython->livelossplot) (0.7.5)\n",
            "Requirement already satisfied: pillow>=4.0 in /usr/local/lib/python3.6/dist-packages (from bokeh; python_version >= \"3.6\"->livelossplot) (7.0.0)\n",
            "Requirement already satisfied: numpy>=1.7.1 in /usr/local/lib/python3.6/dist-packages (from bokeh; python_version >= \"3.6\"->livelossplot) (1.18.5)\n",
            "Requirement already satisfied: PyYAML>=3.10 in /usr/local/lib/python3.6/dist-packages (from bokeh; python_version >= \"3.6\"->livelossplot) (3.13)\n",
            "Requirement already satisfied: tornado>=4.3 in /usr/local/lib/python3.6/dist-packages (from bokeh; python_version >= \"3.6\"->livelossplot) (4.5.3)\n",
            "Requirement already satisfied: python-dateutil>=2.1 in /usr/local/lib/python3.6/dist-packages (from bokeh; python_version >= \"3.6\"->livelossplot) (2.8.1)\n",
            "Requirement already satisfied: six>=1.5.2 in /usr/local/lib/python3.6/dist-packages (from bokeh; python_version >= \"3.6\"->livelossplot) (1.12.0)\n",
            "Requirement already satisfied: Jinja2>=2.7 in /usr/local/lib/python3.6/dist-packages (from bokeh; python_version >= \"3.6\"->livelossplot) (2.11.2)\n",
            "Requirement already satisfied: packaging>=16.8 in /usr/local/lib/python3.6/dist-packages (from bokeh; python_version >= \"3.6\"->livelossplot) (20.4)\n",
            "Requirement already satisfied: kiwisolver>=1.0.1 in /usr/local/lib/python3.6/dist-packages (from matplotlib; python_version >= \"3.6\"->livelossplot) (1.2.0)\n",
            "Requirement already satisfied: cycler>=0.10 in /usr/local/lib/python3.6/dist-packages (from matplotlib; python_version >= \"3.6\"->livelossplot) (0.10.0)\n",
            "Requirement already satisfied: pyparsing!=2.0.4,!=2.1.2,!=2.1.6,>=2.0.1 in /usr/local/lib/python3.6/dist-packages (from matplotlib; python_version >= \"3.6\"->livelossplot) (2.4.7)\n",
            "Requirement already satisfied: wcwidth in /usr/local/lib/python3.6/dist-packages (from prompt-toolkit<2.0.0,>=1.0.4->ipython->livelossplot) (0.2.4)\n",
            "Requirement already satisfied: ipython-genutils in /usr/local/lib/python3.6/dist-packages (from traitlets>=4.2->ipython->livelossplot) (0.2.0)\n",
            "Requirement already satisfied: ptyprocess>=0.5 in /usr/local/lib/python3.6/dist-packages (from pexpect; sys_platform != \"win32\"->ipython->livelossplot) (0.6.0)\n",
            "Requirement already satisfied: MarkupSafe>=0.23 in /usr/local/lib/python3.6/dist-packages (from Jinja2>=2.7->bokeh; python_version >= \"3.6\"->livelossplot) (1.1.1)\n",
            "Installing collected packages: livelossplot\n",
            "Successfully installed livelossplot-0.5.1\n"
          ],
          "name": "stdout"
        }
      ]
    },
    {
      "cell_type": "code",
      "metadata": {
        "id": "NGxxntpJ-aPn",
        "colab_type": "code",
        "colab": {
          "base_uri": "https://localhost:8080/",
          "height": 1000
        },
        "outputId": "420ba7ab-b604-45b4-f6b6-d9805ed547aa"
      },
      "source": [
        "from keras.preprocessing.image import ImageDataGenerator\n",
        "#from tensorflow.keras.callbacks import ModelCheckpoint  gives Error :'Sequential' object has no attribute '_in_multi_worker_mode'\n",
        "#instead use\n",
        "from keras.callbacks import ModelCheckpoint\n",
        "\n",
        "batch_size=64\n",
        "image_size=48\n",
        "epochs=30\n",
        "\n",
        "train_datagen = ImageDataGenerator(\n",
        "        rescale=1./255,\n",
        "#        shear_range=0.2,\n",
        "        zoom_range=0.2,\n",
        "        horizontal_flip=True)\n",
        "#        vertical_flip=True)\n",
        "#        width_shift_range=0.1,\n",
        "#        height_shift_range=0.1)\n",
        "\n",
        "validation_datagen = ImageDataGenerator(\n",
        "        rescale=1./255,\n",
        "#        shear_range=0.2,\n",
        "        zoom_range=0.2,\n",
        "        horizontal_flip=True)\n",
        "#        vertical_flip=True)\n",
        "#        width_shift_range=0.1,\n",
        "#        height_shift_range=0.1)\n",
        "\n",
        "train_generator = train_datagen.flow_from_directory(\n",
        "        'sample_data/train/train',  \n",
        "        color_mode=\"grayscale\",\n",
        "        target_size=(image_size,image_size),\n",
        "        batch_size=batch_size,\n",
        "        class_mode='categorical',\n",
        "        shuffle=True)  \n",
        "\n",
        "validation_generator = validation_datagen.flow_from_directory(\n",
        "        \"sample_data/test/test\",\n",
        "        target_size=(image_size,image_size),\n",
        "        color_mode=\"grayscale\",\n",
        "        batch_size=batch_size,\n",
        "        class_mode='categorical',\n",
        "        shuffle=False)\n",
        "\n",
        "checkpoint = ModelCheckpoint(\"./sample_data/model_weights.h5\", monitor='val_accuracy',\n",
        "                             save_weights_only=True, mode='max', verbose=1)\n",
        "callbacks=[checkpoint]\n",
        "\n",
        "model.fit_generator(\n",
        "        generator=train_generator,\n",
        "        validation_data=validation_generator,\n",
        "        epochs=epochs,\n",
        "        callbacks=callbacks)\n",
        "\n",
        "\n",
        "\n",
        "\n",
        "#model.save_weights('./sample_data/first_try.h5')  # always save your weights after training or during training"
      ],
      "execution_count": 30,
      "outputs": [
        {
          "output_type": "stream",
          "text": [
            "Found 28708 images belonging to 7 classes.\n",
            "Found 7178 images belonging to 7 classes.\n",
            "Epoch 1/30\n",
            "449/449 [==============================] - 40s 89ms/step - loss: 1.7927 - accuracy: 0.2649 - val_loss: 2.8008 - val_accuracy: 0.2797\n",
            "\n",
            "Epoch 00001: saving model to ./sample_data/model_weights.h5\n",
            "Epoch 2/30\n",
            "449/449 [==============================] - 39s 86ms/step - loss: 1.5632 - accuracy: 0.3850 - val_loss: 1.2763 - val_accuracy: 0.3670\n",
            "\n",
            "Epoch 00002: saving model to ./sample_data/model_weights.h5\n",
            "Epoch 3/30\n",
            "449/449 [==============================] - 38s 86ms/step - loss: 1.4285 - accuracy: 0.4462 - val_loss: 1.3188 - val_accuracy: 0.4730\n",
            "\n",
            "Epoch 00003: saving model to ./sample_data/model_weights.h5\n",
            "Epoch 4/30\n",
            "449/449 [==============================] - 38s 85ms/step - loss: 1.3512 - accuracy: 0.4830 - val_loss: 1.5554 - val_accuracy: 0.4264\n",
            "\n",
            "Epoch 00004: saving model to ./sample_data/model_weights.h5\n",
            "Epoch 5/30\n",
            "449/449 [==============================] - 38s 85ms/step - loss: 1.3065 - accuracy: 0.4994 - val_loss: 0.8775 - val_accuracy: 0.5266\n",
            "\n",
            "Epoch 00005: saving model to ./sample_data/model_weights.h5\n",
            "Epoch 6/30\n",
            "449/449 [==============================] - 38s 85ms/step - loss: 1.2619 - accuracy: 0.5213 - val_loss: 1.1190 - val_accuracy: 0.5116\n",
            "\n",
            "Epoch 00006: saving model to ./sample_data/model_weights.h5\n",
            "Epoch 7/30\n",
            "449/449 [==============================] - 38s 85ms/step - loss: 1.2227 - accuracy: 0.5400 - val_loss: 0.6001 - val_accuracy: 0.5222\n",
            "\n",
            "Epoch 00007: saving model to ./sample_data/model_weights.h5\n",
            "Epoch 8/30\n",
            "449/449 [==============================] - 38s 85ms/step - loss: 1.1974 - accuracy: 0.5466 - val_loss: 0.9742 - val_accuracy: 0.5267\n",
            "\n",
            "Epoch 00008: saving model to ./sample_data/model_weights.h5\n",
            "Epoch 9/30\n",
            "449/449 [==============================] - 38s 85ms/step - loss: 1.1704 - accuracy: 0.5640 - val_loss: 0.5328 - val_accuracy: 0.5029\n",
            "\n",
            "Epoch 00009: saving model to ./sample_data/model_weights.h5\n",
            "Epoch 10/30\n",
            "449/449 [==============================] - 38s 85ms/step - loss: 1.1472 - accuracy: 0.5682 - val_loss: 0.7697 - val_accuracy: 0.5621\n",
            "\n",
            "Epoch 00010: saving model to ./sample_data/model_weights.h5\n",
            "Epoch 11/30\n",
            "449/449 [==============================] - 38s 85ms/step - loss: 1.1246 - accuracy: 0.5791 - val_loss: 0.7184 - val_accuracy: 0.5613\n",
            "\n",
            "Epoch 00011: saving model to ./sample_data/model_weights.h5\n",
            "Epoch 12/30\n",
            "449/449 [==============================] - 38s 85ms/step - loss: 1.1044 - accuracy: 0.5831 - val_loss: 0.5468 - val_accuracy: 0.5652\n",
            "\n",
            "Epoch 00012: saving model to ./sample_data/model_weights.h5\n",
            "Epoch 13/30\n",
            "449/449 [==============================] - 38s 85ms/step - loss: 1.0884 - accuracy: 0.5924 - val_loss: 0.6068 - val_accuracy: 0.5143\n",
            "\n",
            "Epoch 00013: saving model to ./sample_data/model_weights.h5\n",
            "Epoch 14/30\n",
            "449/449 [==============================] - 38s 85ms/step - loss: 1.0639 - accuracy: 0.6041 - val_loss: 0.2357 - val_accuracy: 0.5532\n",
            "\n",
            "Epoch 00014: saving model to ./sample_data/model_weights.h5\n",
            "Epoch 15/30\n",
            "449/449 [==============================] - 39s 86ms/step - loss: 1.0451 - accuracy: 0.6083 - val_loss: 0.3868 - val_accuracy: 0.5603\n",
            "\n",
            "Epoch 00015: saving model to ./sample_data/model_weights.h5\n",
            "Epoch 16/30\n",
            "449/449 [==============================] - 38s 85ms/step - loss: 1.0309 - accuracy: 0.6168 - val_loss: 0.2373 - val_accuracy: 0.5770\n",
            "\n",
            "Epoch 00016: saving model to ./sample_data/model_weights.h5\n",
            "Epoch 17/30\n",
            "449/449 [==============================] - 38s 85ms/step - loss: 1.0076 - accuracy: 0.6229 - val_loss: 0.3509 - val_accuracy: 0.5389\n",
            "\n",
            "Epoch 00017: saving model to ./sample_data/model_weights.h5\n",
            "Epoch 18/30\n",
            "449/449 [==============================] - 38s 85ms/step - loss: 0.9906 - accuracy: 0.6310 - val_loss: 0.6264 - val_accuracy: 0.6003\n",
            "\n",
            "Epoch 00018: saving model to ./sample_data/model_weights.h5\n",
            "Epoch 19/30\n",
            "449/449 [==============================] - 38s 85ms/step - loss: 0.9766 - accuracy: 0.6372 - val_loss: 0.3098 - val_accuracy: 0.5833\n",
            "\n",
            "Epoch 00019: saving model to ./sample_data/model_weights.h5\n",
            "Epoch 20/30\n",
            "449/449 [==============================] - 38s 85ms/step - loss: 0.9567 - accuracy: 0.6466 - val_loss: 0.5321 - val_accuracy: 0.5989\n",
            "\n",
            "Epoch 00020: saving model to ./sample_data/model_weights.h5\n",
            "Epoch 21/30\n",
            "449/449 [==============================] - 38s 85ms/step - loss: 0.9435 - accuracy: 0.6498 - val_loss: 0.2755 - val_accuracy: 0.5861\n",
            "\n",
            "Epoch 00021: saving model to ./sample_data/model_weights.h5\n",
            "Epoch 22/30\n",
            "449/449 [==============================] - 38s 85ms/step - loss: 0.9261 - accuracy: 0.6570 - val_loss: 0.4828 - val_accuracy: 0.6013\n",
            "\n",
            "Epoch 00022: saving model to ./sample_data/model_weights.h5\n",
            "Epoch 23/30\n",
            "449/449 [==============================] - 38s 85ms/step - loss: 0.9131 - accuracy: 0.6618 - val_loss: 0.7141 - val_accuracy: 0.5773\n",
            "\n",
            "Epoch 00023: saving model to ./sample_data/model_weights.h5\n",
            "Epoch 24/30\n",
            "449/449 [==============================] - 38s 86ms/step - loss: 0.8968 - accuracy: 0.6710 - val_loss: 0.7523 - val_accuracy: 0.5787\n",
            "\n",
            "Epoch 00024: saving model to ./sample_data/model_weights.h5\n",
            "Epoch 25/30\n",
            "449/449 [==============================] - 38s 85ms/step - loss: 0.8787 - accuracy: 0.6777 - val_loss: 0.0794 - val_accuracy: 0.5986\n",
            "\n",
            "Epoch 00025: saving model to ./sample_data/model_weights.h5\n",
            "Epoch 26/30\n",
            "449/449 [==============================] - 38s 85ms/step - loss: 0.8653 - accuracy: 0.6834 - val_loss: 0.1428 - val_accuracy: 0.6296\n",
            "\n",
            "Epoch 00026: saving model to ./sample_data/model_weights.h5\n",
            "Epoch 27/30\n",
            "449/449 [==============================] - 38s 85ms/step - loss: 0.8470 - accuracy: 0.6891 - val_loss: 0.2776 - val_accuracy: 0.6232\n",
            "\n",
            "Epoch 00027: saving model to ./sample_data/model_weights.h5\n",
            "Epoch 28/30\n",
            "449/449 [==============================] - 38s 85ms/step - loss: 0.8347 - accuracy: 0.6913 - val_loss: 0.2209 - val_accuracy: 0.6183\n",
            "\n",
            "Epoch 00028: saving model to ./sample_data/model_weights.h5\n",
            "Epoch 29/30\n",
            "449/449 [==============================] - 38s 85ms/step - loss: 0.8264 - accuracy: 0.6952 - val_loss: 0.2144 - val_accuracy: 0.5851\n",
            "\n",
            "Epoch 00029: saving model to ./sample_data/model_weights.h5\n",
            "Epoch 30/30\n",
            "449/449 [==============================] - 38s 85ms/step - loss: 0.8153 - accuracy: 0.7013 - val_loss: 0.2900 - val_accuracy: 0.6322\n",
            "\n",
            "Epoch 00030: saving model to ./sample_data/model_weights.h5\n"
          ],
          "name": "stdout"
        },
        {
          "output_type": "execute_result",
          "data": {
            "text/plain": [
              "<keras.callbacks.callbacks.History at 0x7f075979f518>"
            ]
          },
          "metadata": {
            "tags": []
          },
          "execution_count": 30
        }
      ]
    },
    {
      "cell_type": "code",
      "metadata": {
        "id": "VQZVHw1D_e0u",
        "colab_type": "code",
        "colab": {}
      },
      "source": [
        "#Saving model architecture as json\n",
        "model_json = model.to_json()\n",
        "with open(\"./sample_data/model.json\", \"w\") as json_file:\n",
        "    json_file.write(model_json)"
      ],
      "execution_count": 33,
      "outputs": []
    },
    {
      "cell_type": "code",
      "metadata": {
        "id": "9sJIfFFJqEgD",
        "colab_type": "code",
        "colab": {}
      },
      "source": [
        ""
      ],
      "execution_count": null,
      "outputs": []
    }
  ]
}